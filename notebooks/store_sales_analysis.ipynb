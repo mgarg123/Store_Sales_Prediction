{
 "cells": [
  {
   "cell_type": "code",
   "execution_count": 181,
   "id": "7968d348",
   "metadata": {},
   "outputs": [],
   "source": [
    "%config Autocompleter.use_jedi=False"
   ]
  },
  {
   "cell_type": "markdown",
   "id": "9b60d8e3",
   "metadata": {},
   "source": [
    "#### Feature Description:\n",
    "    - Item_Identifier: Unique product ID\n",
    "    - Item_Weight: Weight of product\n",
    "    - Item_Fat_Content: Whether the product is low fat or not \n",
    "    - Item_Visibility: The % of total display area of all products in a store allocated to the particular product \n",
    "    - Item_Type: The category to which the product belongs \n",
    "    - Item_MRP: Maximum Retail Price (list price) of the product \n",
    "    - Outlet_Identifier: Unique store ID \n",
    "    - Outlet_Establishment_Year: The year in which store was established \n",
    "    - Outlet_Size: The size of the store in terms of ground area covered \n",
    "    - Outlet_Location_Type: The type of city in which the store is located \n",
    "    - Outlet_Type: Whether the outlet is just a grocery store or some sort of supermarket \n",
    "    - Item_Outlet_Sales: Sales of  the product in the particulat store. This is the outcome variable to be predicted. \n"
   ]
  },
  {
   "cell_type": "markdown",
   "id": "1b4193ec",
   "metadata": {},
   "source": [
    "# 0. Importing libraries"
   ]
  },
  {
   "cell_type": "code",
   "execution_count": 182,
   "id": "d094855e",
   "metadata": {},
   "outputs": [],
   "source": [
    "import numpy as np\n",
    "import pandas as pd\n",
    "import matplotlib.pyplot as plt\n",
    "from scipy.stats import zscore,boxcox,probplot\n",
    "import seaborn as sns\n",
    "from statsmodels.api import OLS\n",
    "from sklearn.preprocessing import StandardScaler,LabelEncoder,OneHotEncoder\n",
    "from catboost import CatBoostRegressor, CatBoostClassifier\n",
    "from category_encoders import LeaveOneOutEncoder\n",
    "from sklearn.pipeline import Pipeline\n",
    "from sklearn.compose import ColumnTransformer\n",
    "from xgboost import XGBRegressor\n",
    "from sklearn.linear_model import LinearRegression\n",
    "from sklearn.ensemble import RandomForestRegressor,RandomForestClassifier\n",
    "from sklearn.svm import SVR\n",
    "from sklearn.model_selection import train_test_split,cross_val_score,GridSearchCV,RandomizedSearchCV\n",
    "from sklearn.metrics import r2_score, mean_squared_error, mean_absolute_error,classification_report,confusion_matrix\n",
    "import warnings\n",
    "from joblib import dump,load\n",
    "\n",
    "warnings.filterwarnings('ignore')"
   ]
  },
  {
   "cell_type": "code",
   "execution_count": 183,
   "id": "a707b504",
   "metadata": {},
   "outputs": [],
   "source": [
    "train_df = pd.read_csv('../data/raw/train.csv')\n",
    "test_df = pd.read_csv('../data/raw/test.csv')"
   ]
  },
  {
   "cell_type": "code",
   "execution_count": 184,
   "id": "e9af1f03",
   "metadata": {
    "scrolled": false
   },
   "outputs": [
    {
     "data": {
      "text/html": [
       "<div>\n",
       "<style scoped>\n",
       "    .dataframe tbody tr th:only-of-type {\n",
       "        vertical-align: middle;\n",
       "    }\n",
       "\n",
       "    .dataframe tbody tr th {\n",
       "        vertical-align: top;\n",
       "    }\n",
       "\n",
       "    .dataframe thead th {\n",
       "        text-align: right;\n",
       "    }\n",
       "</style>\n",
       "<table border=\"1\" class=\"dataframe\">\n",
       "  <thead>\n",
       "    <tr style=\"text-align: right;\">\n",
       "      <th></th>\n",
       "      <th>id</th>\n",
       "      <th>Item_Identifier</th>\n",
       "      <th>Item_Weight</th>\n",
       "      <th>Item_Fat_Content</th>\n",
       "      <th>Item_Visibility</th>\n",
       "      <th>Item_Type</th>\n",
       "      <th>Item_MRP</th>\n",
       "      <th>Outlet_Identifier</th>\n",
       "      <th>Outlet_Establishment_Year</th>\n",
       "      <th>Outlet_Size</th>\n",
       "      <th>Outlet_Location_Type</th>\n",
       "      <th>Outlet_Type</th>\n",
       "      <th>Item_Outlet_Sales</th>\n",
       "    </tr>\n",
       "  </thead>\n",
       "  <tbody>\n",
       "    <tr>\n",
       "      <th>0</th>\n",
       "      <td>0</td>\n",
       "      <td>FDA15</td>\n",
       "      <td>9.30</td>\n",
       "      <td>Low Fat</td>\n",
       "      <td>0.016047</td>\n",
       "      <td>Dairy</td>\n",
       "      <td>249.8092</td>\n",
       "      <td>OUT049</td>\n",
       "      <td>1999</td>\n",
       "      <td>Medium</td>\n",
       "      <td>Tier 1</td>\n",
       "      <td>Supermarket Type1</td>\n",
       "      <td>3735.1380</td>\n",
       "    </tr>\n",
       "    <tr>\n",
       "      <th>1</th>\n",
       "      <td>1</td>\n",
       "      <td>DRC01</td>\n",
       "      <td>5.92</td>\n",
       "      <td>Regular</td>\n",
       "      <td>0.019278</td>\n",
       "      <td>Soft Drinks</td>\n",
       "      <td>48.2692</td>\n",
       "      <td>OUT018</td>\n",
       "      <td>2009</td>\n",
       "      <td>Medium</td>\n",
       "      <td>Tier 3</td>\n",
       "      <td>Supermarket Type2</td>\n",
       "      <td>443.4228</td>\n",
       "    </tr>\n",
       "    <tr>\n",
       "      <th>2</th>\n",
       "      <td>2</td>\n",
       "      <td>FDN15</td>\n",
       "      <td>17.50</td>\n",
       "      <td>Low Fat</td>\n",
       "      <td>0.016760</td>\n",
       "      <td>Meat</td>\n",
       "      <td>141.6180</td>\n",
       "      <td>OUT049</td>\n",
       "      <td>1999</td>\n",
       "      <td>Medium</td>\n",
       "      <td>Tier 1</td>\n",
       "      <td>Supermarket Type1</td>\n",
       "      <td>2097.2700</td>\n",
       "    </tr>\n",
       "    <tr>\n",
       "      <th>3</th>\n",
       "      <td>3</td>\n",
       "      <td>FDX07</td>\n",
       "      <td>19.20</td>\n",
       "      <td>Regular</td>\n",
       "      <td>0.000000</td>\n",
       "      <td>Fruits and Vegetables</td>\n",
       "      <td>182.0950</td>\n",
       "      <td>OUT010</td>\n",
       "      <td>1998</td>\n",
       "      <td>NaN</td>\n",
       "      <td>Tier 3</td>\n",
       "      <td>Grocery Store</td>\n",
       "      <td>732.3800</td>\n",
       "    </tr>\n",
       "    <tr>\n",
       "      <th>4</th>\n",
       "      <td>4</td>\n",
       "      <td>NCD19</td>\n",
       "      <td>8.93</td>\n",
       "      <td>Low Fat</td>\n",
       "      <td>0.000000</td>\n",
       "      <td>Household</td>\n",
       "      <td>53.8614</td>\n",
       "      <td>OUT013</td>\n",
       "      <td>1987</td>\n",
       "      <td>High</td>\n",
       "      <td>Tier 3</td>\n",
       "      <td>Supermarket Type1</td>\n",
       "      <td>994.7052</td>\n",
       "    </tr>\n",
       "  </tbody>\n",
       "</table>\n",
       "</div>"
      ],
      "text/plain": [
       "   id Item_Identifier  Item_Weight Item_Fat_Content  Item_Visibility  \\\n",
       "0   0           FDA15         9.30          Low Fat         0.016047   \n",
       "1   1           DRC01         5.92          Regular         0.019278   \n",
       "2   2           FDN15        17.50          Low Fat         0.016760   \n",
       "3   3           FDX07        19.20          Regular         0.000000   \n",
       "4   4           NCD19         8.93          Low Fat         0.000000   \n",
       "\n",
       "               Item_Type  Item_MRP Outlet_Identifier  \\\n",
       "0                  Dairy  249.8092            OUT049   \n",
       "1            Soft Drinks   48.2692            OUT018   \n",
       "2                   Meat  141.6180            OUT049   \n",
       "3  Fruits and Vegetables  182.0950            OUT010   \n",
       "4              Household   53.8614            OUT013   \n",
       "\n",
       "   Outlet_Establishment_Year Outlet_Size Outlet_Location_Type  \\\n",
       "0                       1999      Medium               Tier 1   \n",
       "1                       2009      Medium               Tier 3   \n",
       "2                       1999      Medium               Tier 1   \n",
       "3                       1998         NaN               Tier 3   \n",
       "4                       1987        High               Tier 3   \n",
       "\n",
       "         Outlet_Type  Item_Outlet_Sales  \n",
       "0  Supermarket Type1          3735.1380  \n",
       "1  Supermarket Type2           443.4228  \n",
       "2  Supermarket Type1          2097.2700  \n",
       "3      Grocery Store           732.3800  \n",
       "4  Supermarket Type1           994.7052  "
      ]
     },
     "execution_count": 184,
     "metadata": {},
     "output_type": "execute_result"
    }
   ],
   "source": [
    "train_df.head()"
   ]
  },
  {
   "cell_type": "markdown",
   "id": "def5aa80",
   "metadata": {},
   "source": [
    "# 1. Data Inspection\n",
    "    - Summary of dataset\n",
    "    - Checking for Null Values, Data Type of Features"
   ]
  },
  {
   "cell_type": "code",
   "execution_count": 185,
   "id": "147fbcf8",
   "metadata": {
    "scrolled": true
   },
   "outputs": [
    {
     "data": {
      "text/html": [
       "<div>\n",
       "<style scoped>\n",
       "    .dataframe tbody tr th:only-of-type {\n",
       "        vertical-align: middle;\n",
       "    }\n",
       "\n",
       "    .dataframe tbody tr th {\n",
       "        vertical-align: top;\n",
       "    }\n",
       "\n",
       "    .dataframe thead th {\n",
       "        text-align: right;\n",
       "    }\n",
       "</style>\n",
       "<table border=\"1\" class=\"dataframe\">\n",
       "  <thead>\n",
       "    <tr style=\"text-align: right;\">\n",
       "      <th></th>\n",
       "      <th>id</th>\n",
       "      <th>Item_Weight</th>\n",
       "      <th>Item_Visibility</th>\n",
       "      <th>Item_MRP</th>\n",
       "      <th>Outlet_Establishment_Year</th>\n",
       "      <th>Item_Outlet_Sales</th>\n",
       "    </tr>\n",
       "  </thead>\n",
       "  <tbody>\n",
       "    <tr>\n",
       "      <th>count</th>\n",
       "      <td>8525.000000</td>\n",
       "      <td>7062.000000</td>\n",
       "      <td>8525.000000</td>\n",
       "      <td>8525.000000</td>\n",
       "      <td>8525.000000</td>\n",
       "      <td>8525.000000</td>\n",
       "    </tr>\n",
       "    <tr>\n",
       "      <th>mean</th>\n",
       "      <td>4262.000000</td>\n",
       "      <td>12.858429</td>\n",
       "      <td>0.066119</td>\n",
       "      <td>140.988934</td>\n",
       "      <td>1997.831906</td>\n",
       "      <td>2181.236413</td>\n",
       "    </tr>\n",
       "    <tr>\n",
       "      <th>std</th>\n",
       "      <td>2461.099856</td>\n",
       "      <td>4.643833</td>\n",
       "      <td>0.051599</td>\n",
       "      <td>62.268794</td>\n",
       "      <td>8.370793</td>\n",
       "      <td>1706.306944</td>\n",
       "    </tr>\n",
       "    <tr>\n",
       "      <th>min</th>\n",
       "      <td>0.000000</td>\n",
       "      <td>4.555000</td>\n",
       "      <td>0.000000</td>\n",
       "      <td>31.290000</td>\n",
       "      <td>1985.000000</td>\n",
       "      <td>33.290000</td>\n",
       "    </tr>\n",
       "    <tr>\n",
       "      <th>25%</th>\n",
       "      <td>2131.000000</td>\n",
       "      <td>8.775000</td>\n",
       "      <td>0.026980</td>\n",
       "      <td>93.843600</td>\n",
       "      <td>1987.000000</td>\n",
       "      <td>834.913200</td>\n",
       "    </tr>\n",
       "    <tr>\n",
       "      <th>50%</th>\n",
       "      <td>4262.000000</td>\n",
       "      <td>12.600000</td>\n",
       "      <td>0.053925</td>\n",
       "      <td>142.947000</td>\n",
       "      <td>1999.000000</td>\n",
       "      <td>1794.331000</td>\n",
       "    </tr>\n",
       "    <tr>\n",
       "      <th>75%</th>\n",
       "      <td>6393.000000</td>\n",
       "      <td>16.850000</td>\n",
       "      <td>0.094567</td>\n",
       "      <td>185.626600</td>\n",
       "      <td>2004.000000</td>\n",
       "      <td>3101.296400</td>\n",
       "    </tr>\n",
       "    <tr>\n",
       "      <th>max</th>\n",
       "      <td>8524.000000</td>\n",
       "      <td>21.350000</td>\n",
       "      <td>0.328391</td>\n",
       "      <td>266.888400</td>\n",
       "      <td>2009.000000</td>\n",
       "      <td>13086.964800</td>\n",
       "    </tr>\n",
       "  </tbody>\n",
       "</table>\n",
       "</div>"
      ],
      "text/plain": [
       "                id  Item_Weight  Item_Visibility     Item_MRP  \\\n",
       "count  8525.000000  7062.000000      8525.000000  8525.000000   \n",
       "mean   4262.000000    12.858429         0.066119   140.988934   \n",
       "std    2461.099856     4.643833         0.051599    62.268794   \n",
       "min       0.000000     4.555000         0.000000    31.290000   \n",
       "25%    2131.000000     8.775000         0.026980    93.843600   \n",
       "50%    4262.000000    12.600000         0.053925   142.947000   \n",
       "75%    6393.000000    16.850000         0.094567   185.626600   \n",
       "max    8524.000000    21.350000         0.328391   266.888400   \n",
       "\n",
       "       Outlet_Establishment_Year  Item_Outlet_Sales  \n",
       "count                8525.000000        8525.000000  \n",
       "mean                 1997.831906        2181.236413  \n",
       "std                     8.370793        1706.306944  \n",
       "min                  1985.000000          33.290000  \n",
       "25%                  1987.000000         834.913200  \n",
       "50%                  1999.000000        1794.331000  \n",
       "75%                  2004.000000        3101.296400  \n",
       "max                  2009.000000       13086.964800  "
      ]
     },
     "execution_count": 185,
     "metadata": {},
     "output_type": "execute_result"
    }
   ],
   "source": [
    "train_df.describe()"
   ]
  },
  {
   "cell_type": "code",
   "execution_count": 186,
   "id": "ffe05fa6",
   "metadata": {},
   "outputs": [
    {
     "name": "stdout",
     "output_type": "stream",
     "text": [
      "<class 'pandas.core.frame.DataFrame'>\n",
      "RangeIndex: 8525 entries, 0 to 8524\n",
      "Data columns (total 13 columns):\n",
      " #   Column                     Non-Null Count  Dtype  \n",
      "---  ------                     --------------  -----  \n",
      " 0   id                         8525 non-null   int64  \n",
      " 1   Item_Identifier            8525 non-null   object \n",
      " 2   Item_Weight                7062 non-null   float64\n",
      " 3   Item_Fat_Content           8525 non-null   object \n",
      " 4   Item_Visibility            8525 non-null   float64\n",
      " 5   Item_Type                  8525 non-null   object \n",
      " 6   Item_MRP                   8525 non-null   float64\n",
      " 7   Outlet_Identifier          8525 non-null   object \n",
      " 8   Outlet_Establishment_Year  8525 non-null   int64  \n",
      " 9   Outlet_Size                6115 non-null   object \n",
      " 10  Outlet_Location_Type       8525 non-null   object \n",
      " 11  Outlet_Type                8525 non-null   object \n",
      " 12  Item_Outlet_Sales          8525 non-null   float64\n",
      "dtypes: float64(4), int64(2), object(7)\n",
      "memory usage: 865.9+ KB\n"
     ]
    }
   ],
   "source": [
    "train_df.info()"
   ]
  },
  {
   "cell_type": "markdown",
   "id": "c197f15a",
   "metadata": {},
   "source": [
    "<h3><u>Observation:</u></h3>\n",
    "    \n",
    "#### Irrelevant columns are present which can be removed:\n",
    "    1. Item_Identifier\n",
    "    2. Outlet_Identifer (Can be useful in grouping and getting some other informations)\n",
    "    3. Outlet_Establishment_Year (can be useful to draw some informataion or to do feature engineering)\n",
    "\n",
    "#### Some columns are categorical which needs to be encoded further:\n",
    "    1. Item_Fat_Content\n",
    "    2. Item_Type\n",
    "    3. Outlet_Size\n",
    "    4. Outlet_Location_Type\n",
    "    5. Outlet_Type"
   ]
  },
  {
   "cell_type": "code",
   "execution_count": 187,
   "id": "189fbffb",
   "metadata": {
    "scrolled": true
   },
   "outputs": [
    {
     "name": "stdout",
     "output_type": "stream",
     "text": [
      "----------------% of missing Values in train set---------------------------- \n"
     ]
    },
    {
     "data": {
      "text/plain": [
       "id                            0.00\n",
       "Item_Identifier               0.00\n",
       "Item_Weight                  17.16\n",
       "Item_Fat_Content              0.00\n",
       "Item_Visibility               0.00\n",
       "Item_Type                     0.00\n",
       "Item_MRP                      0.00\n",
       "Outlet_Identifier             0.00\n",
       "Outlet_Establishment_Year     0.00\n",
       "Outlet_Size                  28.27\n",
       "Outlet_Location_Type          0.00\n",
       "Outlet_Type                   0.00\n",
       "Item_Outlet_Sales             0.00\n",
       "dtype: float64"
      ]
     },
     "execution_count": 187,
     "metadata": {},
     "output_type": "execute_result"
    }
   ],
   "source": [
    "print('----------------% of missing Values in train set---------------------------- ')\n",
    "np.round(train_df.isna().sum()/len(train_df) * 100,2)"
   ]
  },
  {
   "cell_type": "code",
   "execution_count": 188,
   "id": "3e768f5d",
   "metadata": {},
   "outputs": [
    {
     "name": "stdout",
     "output_type": "stream",
     "text": [
      "----------------% of missing Values in test set---------------------------- \n"
     ]
    },
    {
     "data": {
      "text/plain": [
       "Item_Identifier               0.00\n",
       "Item_Weight                  17.18\n",
       "Item_Fat_Content              0.00\n",
       "Item_Visibility               0.00\n",
       "Item_Type                     0.00\n",
       "Item_MRP                      0.00\n",
       "Outlet_Identifier             0.00\n",
       "Outlet_Establishment_Year     0.00\n",
       "Outlet_Size                  28.27\n",
       "Outlet_Location_Type          0.00\n",
       "Outlet_Type                   0.00\n",
       "dtype: float64"
      ]
     },
     "execution_count": 188,
     "metadata": {},
     "output_type": "execute_result"
    }
   ],
   "source": [
    "print('----------------% of missing Values in test set---------------------------- ')\n",
    "np.round(test_df.isna().sum()/len(test_df) * 100,2)"
   ]
  },
  {
   "cell_type": "markdown",
   "id": "4774e9a6",
   "metadata": {},
   "source": [
    "<h3><u>Observation:</u></h3>\n",
    "\n",
    "#### We can see 2 features have the missing values both in train and test dataset which needs to be handled:\n",
    "    1. Item_Weight\n",
    "    2. Outlet_Size\n",
    "    \n",
    "<b>Note:</b> There can be more missing features, but will have to look for it."
   ]
  },
  {
   "cell_type": "markdown",
   "id": "17b351ed",
   "metadata": {},
   "source": [
    "# 2. Data Cleaning\n",
    "    - Handling Missing Data\n",
    "    - Removing redundant and duplicate data\n",
    "    - Handling untidy dataset etc"
   ]
  },
  {
   "cell_type": "markdown",
   "id": "d9747a28",
   "metadata": {},
   "source": [
    "## 2.1 Handling Missing Data\n",
    "\n",
    "#### Types of Missing Values:\n",
    "    - NaN\n",
    "    - 0 (depends on feature)\n",
    "    - -1, -9,-99,-999 etc\n",
    "\n",
    "#### Features with missing values:\n",
    "    1. Item_Weight\n",
    "    2. Outlet_Size\n",
    "    \n",
    "#### Techniques to handle missing values:\n",
    "    1. Impute with (Mean, Median) -- good for continous feature\n",
    "    2. Frequency based imputation (Mode)       -- good for categorical feature\n",
    "    3. Deleting the NaN rows\n",
    "    4. imputation based on predictions\n",
    "    5. Regression Imputation  -- Good if feature is highly correlated\n",
    "    6. KNN based imputation"
   ]
  },
  {
   "cell_type": "code",
   "execution_count": 189,
   "id": "866b7eea",
   "metadata": {},
   "outputs": [
    {
     "name": "stdout",
     "output_type": "stream",
     "text": [
      "Total missing value for Item_Weight is 1463 out of 8525\n"
     ]
    }
   ],
   "source": [
    "wt_miss_val = train_df['Item_Weight'].isna().sum()\n",
    "print('Total missing value for Item_Weight is {} out of {}'.format(wt_miss_val,len(train_df['Item_Weight'])))"
   ]
  },
  {
   "cell_type": "code",
   "execution_count": 190,
   "id": "479b2e77",
   "metadata": {},
   "outputs": [
    {
     "name": "stdout",
     "output_type": "stream",
     "text": [
      "Total missing value for Outlet_Size is 2410 out of 8525\n"
     ]
    }
   ],
   "source": [
    "size_miss_val = train_df['Outlet_Size'].isna().sum()\n",
    "print('Total missing value for Outlet_Size is {} out of {}'.format(size_miss_val,len(train_df['Outlet_Size'])))"
   ]
  },
  {
   "cell_type": "code",
   "execution_count": 191,
   "id": "9a7cd049",
   "metadata": {},
   "outputs": [
    {
     "data": {
      "text/plain": [
       "<AxesSubplot:xlabel='Item_Weight'>"
      ]
     },
     "execution_count": 191,
     "metadata": {},
     "output_type": "execute_result"
    },
    {
     "data": {
      "image/png": "[encoded data removed]",
      "text/plain": [
       "<Figure size 432x288 with 1 Axes>"
      ]
     },
     "metadata": {
      "needs_background": "light"
     },
     "output_type": "display_data"
    }
   ],
   "source": [
    "sns.boxplot(train_df['Item_Weight'])"
   ]
  },
  {
   "cell_type": "markdown",
   "id": "79ba9475",
   "metadata": {},
   "source": [
    "It seems like outlier is not present in this feature so, we can replace the missing values with <b>mean</b> imputation."
   ]
  },
  {
   "cell_type": "code",
   "execution_count": 192,
   "id": "2e393f6e",
   "metadata": {},
   "outputs": [],
   "source": [
    "# imputing Missing Value for Item_Weight with Mean\n",
    "train_df['Item_Weight'].fillna(train_df['Item_Weight'].mean(),inplace=True)\n",
    "test_df['Item_Weight'].fillna(test_df['Item_Weight'].mean(),inplace=True)"
   ]
  },
  {
   "cell_type": "code",
   "execution_count": 193,
   "id": "29cf9000",
   "metadata": {},
   "outputs": [
    {
     "name": "stdout",
     "output_type": "stream",
     "text": [
      "Medium    2794\n",
      "Small     2389\n",
      "High       932\n",
      "Name: Outlet_Size, dtype: int64\n"
     ]
    }
   ],
   "source": [
    "# imputing missing value for Outlet_Size based on frequency -- Medium here\n",
    "print(train_df['Outlet_Size'].value_counts())"
   ]
  },
  {
   "cell_type": "code",
   "execution_count": 194,
   "id": "8121e278",
   "metadata": {},
   "outputs": [],
   "source": [
    "# train_df['Outlet_Size'].fillna(train_df['Outlet_Size'].mode()[0],inplace=True)\n",
    "# test_df['Outlet_Size'].fillna(test_df['Outlet_Size'].mode()[0],inplace=True)"
   ]
  },
  {
   "cell_type": "code",
   "execution_count": 195,
   "id": "01f805f4",
   "metadata": {},
   "outputs": [
    {
     "data": {
      "text/plain": [
       "0.000000    526\n",
       "0.076975      3\n",
       "0.107037      2\n",
       "0.061271      2\n",
       "0.046825      2\n",
       "           ... \n",
       "0.056387      1\n",
       "0.013957      1\n",
       "0.110460      1\n",
       "0.124646      1\n",
       "0.013496      1\n",
       "Name: Item_Visibility, Length: 7882, dtype: int64"
      ]
     },
     "execution_count": 195,
     "metadata": {},
     "output_type": "execute_result"
    }
   ],
   "source": [
    "train_df['Item_Visibility'].value_counts()"
   ]
  },
  {
   "cell_type": "markdown",
   "id": "19b1c0f4",
   "metadata": {},
   "source": [
    "#### Observation:\n",
    "    We can see that it has 0 values which is not possible in this case as, visibility of item in a store cannot be zero. So need to handle it."
   ]
  },
  {
   "cell_type": "code",
   "execution_count": 196,
   "id": "12e96f51",
   "metadata": {},
   "outputs": [
    {
     "name": "stdout",
     "output_type": "stream",
     "text": [
      "Percent of missing values in Train->Item_Visibility are: 6.17%\n",
      "Percent of missing values in Test->Item_Visibility are: 6.21%\n"
     ]
    }
   ],
   "source": [
    "per_missing_visib_train = len(train_df[train_df['Item_Visibility']==0])/len(train_df) * 100\n",
    "per_missing_visib_test = len(test_df[test_df['Item_Visibility']==0])/len(test_df) * 100\n",
    "print('Percent of missing values in Train->Item_Visibility are: {}%'.format(round(per_missing_visib_train,2)))\n",
    "print('Percent of missing values in Test->Item_Visibility are: {}%'.format(round(per_missing_visib_test,2)))"
   ]
  },
  {
   "cell_type": "code",
   "execution_count": 197,
   "id": "5fe58ae6",
   "metadata": {},
   "outputs": [
    {
     "data": {
      "text/plain": [
       "<AxesSubplot:xlabel='Item_Visibility'>"
      ]
     },
     "execution_count": 197,
     "metadata": {},
     "output_type": "execute_result"
    },
    {
     "data": {
      "image/png": "[encoded data removed]",
      "text/plain": [
       "<Figure size 432x288 with 1 Axes>"
      ]
     },
     "metadata": {
      "needs_background": "light"
     },
     "output_type": "display_data"
    }
   ],
   "source": [
    "sns.boxplot(train_df['Item_Visibility'])"
   ]
  },
  {
   "cell_type": "code",
   "execution_count": 198,
   "id": "78376b3e",
   "metadata": {
    "scrolled": true
   },
   "outputs": [],
   "source": [
    "# Imputing Item_Visibility missinng values with Median\n",
    "train_df['Item_Visibility'].replace({0:train_df['Item_Visibility'].median()},inplace=True)\n",
    "test_df['Item_Visibility'].replace({0:test_df['Item_Visibility'].median()},inplace=True)"
   ]
  },
  {
   "cell_type": "markdown",
   "id": "0935aca6",
   "metadata": {},
   "source": [
    "## 2.2 Removing redundant and duplicate data\n",
    "\n",
    "#### Feature having duplicate data values:\n",
    "    - Item_Fat_Content"
   ]
  },
  {
   "cell_type": "code",
   "execution_count": 199,
   "id": "a32da26a",
   "metadata": {},
   "outputs": [
    {
     "data": {
      "text/plain": [
       "['Item_Identifier',\n",
       " 'Item_Fat_Content',\n",
       " 'Item_Type',\n",
       " 'Outlet_Identifier',\n",
       " 'Outlet_Size',\n",
       " 'Outlet_Location_Type',\n",
       " 'Outlet_Type']"
      ]
     },
     "execution_count": 199,
     "metadata": {},
     "output_type": "execute_result"
    }
   ],
   "source": [
    "# Get all categorical features\n",
    "[x for x in train_df.select_dtypes('object').columns]"
   ]
  },
  {
   "cell_type": "code",
   "execution_count": 200,
   "id": "c4f36687",
   "metadata": {},
   "outputs": [
    {
     "data": {
      "text/plain": [
       "Supermarket Type1    5579\n",
       "Grocery Store        1083\n",
       "Supermarket Type3     935\n",
       "Supermarket Type2     928\n",
       "Name: Outlet_Type, dtype: int64"
      ]
     },
     "execution_count": 200,
     "metadata": {},
     "output_type": "execute_result"
    }
   ],
   "source": [
    "train_df['Outlet_Type'].value_counts()"
   ]
  },
  {
   "cell_type": "code",
   "execution_count": 201,
   "id": "1d60c87b",
   "metadata": {},
   "outputs": [
    {
     "data": {
      "text/plain": [
       "Low Fat    5090\n",
       "Regular    2890\n",
       "LF          316\n",
       "reg         117\n",
       "low fat     112\n",
       "Name: Item_Fat_Content, dtype: int64"
      ]
     },
     "execution_count": 201,
     "metadata": {},
     "output_type": "execute_result"
    }
   ],
   "source": [
    "train_df['Item_Fat_Content'].value_counts()"
   ]
  },
  {
   "cell_type": "markdown",
   "id": "e9731ba1",
   "metadata": {},
   "source": [
    "#### We can convert these multiple duplicate values to single as they denotes the same meaning\n",
    "    - low fat, LF -> Low Fat & reg -> Regular"
   ]
  },
  {
   "cell_type": "code",
   "execution_count": 202,
   "id": "676a90ea",
   "metadata": {},
   "outputs": [
    {
     "name": "stdout",
     "output_type": "stream",
     "text": [
      "Low Fat    5518\n",
      "Regular    3007\n",
      "Name: Item_Fat_Content, dtype: int64\n"
     ]
    }
   ],
   "source": [
    "train_df['Item_Fat_Content'].replace({'LF':'Low Fat','low fat':'Low Fat','reg':'Regular'},inplace=True)\n",
    "test_df['Item_Fat_Content'].replace({'LF':'Low Fat','low fat':'Low Fat','reg':'Regular'},inplace=True)\n",
    "print(train_df['Item_Fat_Content'].value_counts())"
   ]
  },
  {
   "cell_type": "markdown",
   "id": "fbc34efa",
   "metadata": {},
   "source": [
    "    "
   ]
  },
  {
   "cell_type": "markdown",
   "id": "7b9a360f",
   "metadata": {},
   "source": [
    "# 3. EDA\n",
    "\n",
    "    - Finding Correlations\n",
    "    - Checking For multicolinearity\n",
    "    - Univariate, Bivariate  Multivariate Analysis\n",
    "    - Understanding about each and every features/columns/variables"
   ]
  },
  {
   "cell_type": "markdown",
   "id": "9a67d208",
   "metadata": {},
   "source": [
    "## 3.1 Checking Correlation & Multicolinearity"
   ]
  },
  {
   "cell_type": "code",
   "execution_count": 203,
   "id": "e0dc4161",
   "metadata": {},
   "outputs": [
    {
     "data": {
      "text/plain": [
       "<AxesSubplot:>"
      ]
     },
     "execution_count": 203,
     "metadata": {},
     "output_type": "execute_result"
    },
    {
     "data": {
      "image/png": "[encoded data removed]",
      "text/plain": [
       "<Figure size 432x288 with 2 Axes>"
      ]
     },
     "metadata": {
      "needs_background": "light"
     },
     "output_type": "display_data"
    }
   ],
   "source": [
    "sns.heatmap(train_df.corr(),annot=True)"
   ]
  },
  {
   "cell_type": "markdown",
   "id": "4d307143",
   "metadata": {},
   "source": [
    "                        (Fig.- Correlation Heatmap for train data)\n",
    "\n",
    "#### From this correlation heatmap it can be infered that there is no multicolinearity present."
   ]
  },
  {
   "cell_type": "code",
   "execution_count": 204,
   "id": "8275de4c",
   "metadata": {},
   "outputs": [],
   "source": [
    "# sns.pairplot(train_df,hue='Outlet_Type')"
   ]
  },
  {
   "cell_type": "markdown",
   "id": "06b5a88e",
   "metadata": {},
   "source": [
    "#### Some features are skewed which needs to be transformed (* if we use linear model else we can leave as it is):\n",
    "    1. Item_Outlet_Sales (right skewed)\n",
    "    2. Item_Visibility (right skewed)\n",
    "\n",
    "#### From this diagram it can be inferred that:\n",
    "    1. Overall Sales from all outlets  -> Supermarket Type1 > Supermarket Type3  > Grocery Store > Supermarket Type2\n",
    "    2. Overall sales \n",
    "    3. Less sales from grocery store\n",
    "    4. Outlet Establishments (earlier to later) => Supermarket Type3 -> Supermarket Type1 -> Grocery Store -> \n",
    "       Supermarket Type2\n",
    "    "
   ]
  },
  {
   "cell_type": "code",
   "execution_count": 205,
   "id": "61f11234",
   "metadata": {},
   "outputs": [],
   "source": [
    "# sales_skewness = train_df['Item_Outlet_Sales'].skew()\n",
    "# visibility_skewness = train_df['Item_Visibility'].skew()\n",
    "# print('Skewness for Item_Outlet_Sales is {} and for Item_Visibility is {}'.format(sales_skewness,visibility_skewness))"
   ]
  },
  {
   "cell_type": "markdown",
   "id": "247c4961",
   "metadata": {},
   "source": [
    "#### From this it seems like these 2 features are highly skewed (>1), which can lead to unreliable results. So we need to transform it using either of these methods:\n",
    "    1. Log transform (most preferred) -- We are going to use this over here\n",
    "    2. Sqrt transform (generally less preferred)\n",
    "    3. box-cox transform"
   ]
  },
  {
   "cell_type": "code",
   "execution_count": 206,
   "id": "457eafb3",
   "metadata": {},
   "outputs": [],
   "source": [
    "# Applying log transform to both skewed feature\n",
    "# train_df['Log_Item_Visibility'] = np.sqrt(train_df['Item_Visibility'])\n",
    "# train_df['Log_Item_Outlet_Sales'] = np.log(train_df['Item_Outlet_Sales'])\n",
    "\n",
    "# train_df.drop(columns=['Item_Visibility','Item_Outlet_Sales'],axis=1,inplace=True)"
   ]
  },
  {
   "cell_type": "code",
   "execution_count": 207,
   "id": "2380dadd",
   "metadata": {},
   "outputs": [],
   "source": [
    "# sns.pairplot(train_df,hue='Outlet_Type')"
   ]
  },
  {
   "cell_type": "markdown",
   "id": "c0d479e8",
   "metadata": {},
   "source": [
    "#### After transforming the skewed data it can be inferred that:\n",
    "    1. There is a positive correlation between MRP and sales."
   ]
  },
  {
   "cell_type": "code",
   "execution_count": 208,
   "id": "a9a5aa35",
   "metadata": {},
   "outputs": [],
   "source": [
    "# sns.heatmap(train_df.corr(),annot=True)"
   ]
  },
  {
   "cell_type": "markdown",
   "id": "64ded8b5",
   "metadata": {},
   "source": [
    "<center><b>Correlation after feature transformation</b></center>"
   ]
  },
  {
   "cell_type": "markdown",
   "id": "44b1aa0d",
   "metadata": {},
   "source": [
    "## 3.2 Univariate Analysis"
   ]
  },
  {
   "cell_type": "code",
   "execution_count": 209,
   "id": "fd20e20c",
   "metadata": {},
   "outputs": [
    {
     "data": {
      "text/plain": [
       "<AxesSubplot:xlabel='Item_MRP', ylabel='Item_Outlet_Sales'>"
      ]
     },
     "execution_count": 209,
     "metadata": {},
     "output_type": "execute_result"
    },
    {
     "data": {
      "image/png": "[encoded data removed]",
      "text/plain": [
       "<Figure size 432x288 with 1 Axes>"
      ]
     },
     "metadata": {
      "needs_background": "light"
     },
     "output_type": "display_data"
    }
   ],
   "source": [
    "sns.scatterplot(x=train_df['Item_MRP'],y=train_df['Item_Outlet_Sales'])"
   ]
  },
  {
   "cell_type": "code",
   "execution_count": 210,
   "id": "2745f9cd",
   "metadata": {},
   "outputs": [
    {
     "data": {
      "text/plain": [
       "<seaborn.axisgrid.FacetGrid at 0x1e0a5bcb730>"
      ]
     },
     "execution_count": 210,
     "metadata": {},
     "output_type": "execute_result"
    },
    {
     "data": {
      "image/png": "[encoded data removed]",
      "text/plain": [
       "<Figure size 360x360 with 1 Axes>"
      ]
     },
     "metadata": {
      "needs_background": "light"
     },
     "output_type": "display_data"
    }
   ],
   "source": [
    "sns.catplot('Outlet_Location_Type',data=train_df,kind='count')"
   ]
  },
  {
   "cell_type": "markdown",
   "id": "648c6bf5",
   "metadata": {},
   "source": [
    "1. More no. of outlet in Tier 3 cities"
   ]
  },
  {
   "cell_type": "code",
   "execution_count": 211,
   "id": "5abc4024",
   "metadata": {},
   "outputs": [
    {
     "data": {
      "text/plain": [
       "<AxesSubplot:xlabel='Item_Type', ylabel='count'>"
      ]
     },
     "execution_count": 211,
     "metadata": {},
     "output_type": "execute_result"
    },
    {
     "data": {
      "image/png": "[encoded data removed]",
      "text/plain": [
       "<Figure size 1728x576 with 1 Axes>"
      ]
     },
     "metadata": {
      "needs_background": "light"
     },
     "output_type": "display_data"
    }
   ],
   "source": [
    "fig,ax = plt.subplots(figsize=(24,8))\n",
    "sns.countplot(train_df['Item_Type'],ax=ax)"
   ]
  },
  {
   "cell_type": "markdown",
   "id": "f35eadac",
   "metadata": {},
   "source": [
    "1. Fruits & vegetables are purchased more than others as it is of daily use.\n",
    "2. Snack Foods also has high sales"
   ]
  },
  {
   "cell_type": "code",
   "execution_count": 212,
   "id": "a60a4b21",
   "metadata": {},
   "outputs": [
    {
     "data": {
      "text/plain": [
       "<AxesSubplot:xlabel='Outlet_Size', ylabel='count'>"
      ]
     },
     "execution_count": 212,
     "metadata": {},
     "output_type": "execute_result"
    },
    {
     "data": {
      "image/png": "[encoded data removed]",
      "text/plain": [
       "<Figure size 432x288 with 1 Axes>"
      ]
     },
     "metadata": {
      "needs_background": "light"
     },
     "output_type": "display_data"
    }
   ],
   "source": [
    "sns.countplot(train_df['Outlet_Size'])"
   ]
  },
  {
   "cell_type": "markdown",
   "id": "2f8d3235",
   "metadata": {},
   "source": [
    "1. Maximum outlet are of medium size"
   ]
  },
  {
   "cell_type": "markdown",
   "id": "9a8f4a4c",
   "metadata": {},
   "source": [
    "## 3.3 Bivariate Analysis"
   ]
  },
  {
   "cell_type": "code",
   "execution_count": 213,
   "id": "0a3ca60e",
   "metadata": {},
   "outputs": [
    {
     "data": {
      "text/plain": [
       "<AxesSubplot:xlabel='Item_Fat_Content', ylabel='Item_Outlet_Sales'>"
      ]
     },
     "execution_count": 213,
     "metadata": {},
     "output_type": "execute_result"
    },
    {
     "data": {
      "image/png": "[encoded data removed]",
      "text/plain": [
       "<Figure size 432x288 with 1 Axes>"
      ]
     },
     "metadata": {
      "needs_background": "light"
     },
     "output_type": "display_data"
    }
   ],
   "source": [
    "sns.barplot('Item_Fat_Content','Item_Outlet_Sales',data=train_df,palette='mako')"
   ]
  },
  {
   "cell_type": "code",
   "execution_count": 214,
   "id": "6d02725a",
   "metadata": {},
   "outputs": [
    {
     "data": {
      "text/html": [
       "<div>\n",
       "<style scoped>\n",
       "    .dataframe tbody tr th:only-of-type {\n",
       "        vertical-align: middle;\n",
       "    }\n",
       "\n",
       "    .dataframe tbody tr th {\n",
       "        vertical-align: top;\n",
       "    }\n",
       "\n",
       "    .dataframe thead th {\n",
       "        text-align: right;\n",
       "    }\n",
       "</style>\n",
       "<table border=\"1\" class=\"dataframe\">\n",
       "  <thead>\n",
       "    <tr style=\"text-align: right;\">\n",
       "      <th></th>\n",
       "      <th>Item_Outlet_Sales</th>\n",
       "    </tr>\n",
       "    <tr>\n",
       "      <th>Outlet_Type</th>\n",
       "      <th></th>\n",
       "    </tr>\n",
       "  </thead>\n",
       "  <tbody>\n",
       "    <tr>\n",
       "      <th>Grocery Store</th>\n",
       "      <td>339.828500</td>\n",
       "    </tr>\n",
       "    <tr>\n",
       "      <th>Supermarket Type1</th>\n",
       "      <td>2316.052567</td>\n",
       "    </tr>\n",
       "    <tr>\n",
       "      <th>Supermarket Type2</th>\n",
       "      <td>1995.498739</td>\n",
       "    </tr>\n",
       "    <tr>\n",
       "      <th>Supermarket Type3</th>\n",
       "      <td>3694.038558</td>\n",
       "    </tr>\n",
       "  </tbody>\n",
       "</table>\n",
       "</div>"
      ],
      "text/plain": [
       "                   Item_Outlet_Sales\n",
       "Outlet_Type                         \n",
       "Grocery Store             339.828500\n",
       "Supermarket Type1        2316.052567\n",
       "Supermarket Type2        1995.498739\n",
       "Supermarket Type3        3694.038558"
      ]
     },
     "execution_count": 214,
     "metadata": {},
     "output_type": "execute_result"
    }
   ],
   "source": [
    "train_df.groupby(by='Outlet_Type')[['Item_Outlet_Sales']].mean()"
   ]
  },
  {
   "cell_type": "markdown",
   "id": "d1363dda",
   "metadata": {},
   "source": [
    "#### Outlet Type Vs Avg Sales"
   ]
  },
  {
   "cell_type": "code",
   "execution_count": 215,
   "id": "ebe097fc",
   "metadata": {},
   "outputs": [
    {
     "data": {
      "text/html": [
       "<div>\n",
       "<style scoped>\n",
       "    .dataframe tbody tr th:only-of-type {\n",
       "        vertical-align: middle;\n",
       "    }\n",
       "\n",
       "    .dataframe tbody tr th {\n",
       "        vertical-align: top;\n",
       "    }\n",
       "\n",
       "    .dataframe thead th {\n",
       "        text-align: right;\n",
       "    }\n",
       "</style>\n",
       "<table border=\"1\" class=\"dataframe\">\n",
       "  <thead>\n",
       "    <tr style=\"text-align: right;\">\n",
       "      <th></th>\n",
       "      <th>Item_Outlet_Sales</th>\n",
       "    </tr>\n",
       "    <tr>\n",
       "      <th>Outlet_Size</th>\n",
       "      <th></th>\n",
       "    </tr>\n",
       "  </thead>\n",
       "  <tbody>\n",
       "    <tr>\n",
       "      <th>High</th>\n",
       "      <td>2298.995256</td>\n",
       "    </tr>\n",
       "    <tr>\n",
       "      <th>Medium</th>\n",
       "      <td>2681.257014</td>\n",
       "    </tr>\n",
       "    <tr>\n",
       "      <th>Small</th>\n",
       "      <td>1912.270324</td>\n",
       "    </tr>\n",
       "  </tbody>\n",
       "</table>\n",
       "</div>"
      ],
      "text/plain": [
       "             Item_Outlet_Sales\n",
       "Outlet_Size                   \n",
       "High               2298.995256\n",
       "Medium             2681.257014\n",
       "Small              1912.270324"
      ]
     },
     "execution_count": 215,
     "metadata": {},
     "output_type": "execute_result"
    }
   ],
   "source": [
    "train_df.groupby(by='Outlet_Size')[['Item_Outlet_Sales']].mean()"
   ]
  },
  {
   "cell_type": "markdown",
   "id": "7b9255cb",
   "metadata": {},
   "source": [
    "#### Outlet Size Vs Avg Sales"
   ]
  },
  {
   "cell_type": "code",
   "execution_count": 216,
   "id": "4015b731",
   "metadata": {},
   "outputs": [
    {
     "data": {
      "text/html": [
       "<div>\n",
       "<style scoped>\n",
       "    .dataframe tbody tr th:only-of-type {\n",
       "        vertical-align: middle;\n",
       "    }\n",
       "\n",
       "    .dataframe tbody tr th {\n",
       "        vertical-align: top;\n",
       "    }\n",
       "\n",
       "    .dataframe thead th {\n",
       "        text-align: right;\n",
       "    }\n",
       "</style>\n",
       "<table border=\"1\" class=\"dataframe\">\n",
       "  <thead>\n",
       "    <tr style=\"text-align: right;\">\n",
       "      <th></th>\n",
       "      <th>Item_Outlet_Sales</th>\n",
       "    </tr>\n",
       "    <tr>\n",
       "      <th>Outlet_Location_Type</th>\n",
       "      <th></th>\n",
       "    </tr>\n",
       "  </thead>\n",
       "  <tbody>\n",
       "    <tr>\n",
       "      <th>Tier 1</th>\n",
       "      <td>1876.976604</td>\n",
       "    </tr>\n",
       "    <tr>\n",
       "      <th>Tier 2</th>\n",
       "      <td>2323.990559</td>\n",
       "    </tr>\n",
       "    <tr>\n",
       "      <th>Tier 3</th>\n",
       "      <td>2279.627651</td>\n",
       "    </tr>\n",
       "  </tbody>\n",
       "</table>\n",
       "</div>"
      ],
      "text/plain": [
       "                      Item_Outlet_Sales\n",
       "Outlet_Location_Type                   \n",
       "Tier 1                      1876.976604\n",
       "Tier 2                      2323.990559\n",
       "Tier 3                      2279.627651"
      ]
     },
     "execution_count": 216,
     "metadata": {},
     "output_type": "execute_result"
    }
   ],
   "source": [
    "train_df.groupby(by='Outlet_Location_Type')[['Item_Outlet_Sales']].mean()"
   ]
  },
  {
   "cell_type": "markdown",
   "id": "6fd2e790",
   "metadata": {},
   "source": [
    "#### Outlet Location Type Vs Avg Sales"
   ]
  },
  {
   "cell_type": "markdown",
   "id": "69fec56d",
   "metadata": {},
   "source": [
    "# 4. Feature Engineering\n",
    "\n",
    "    - Handling Outliers\n",
    "    - Handling irrelevant columns\n",
    "    - Feature Encoding (handling categorical data)\n",
    "    - Feature Generation\n",
    "    - Selecting top/important features"
   ]
  },
  {
   "cell_type": "markdown",
   "id": "9fbcc33d",
   "metadata": {},
   "source": [
    "## 4.1 Handling Outliers\n",
    "\n",
    "<b>Note: </b> Outliers must be treated if we use linear model. \n",
    "\n",
    "#### Ways to treat outliers:\n",
    "    1. Trimming/removing the outlier\n",
    "    2. Quantile based flooring and capping\n",
    "    3. Mean/Median imputation"
   ]
  },
  {
   "cell_type": "code",
   "execution_count": null,
   "id": "9877698c",
   "metadata": {},
   "outputs": [],
   "source": []
  },
  {
   "cell_type": "markdown",
   "id": "2cbfe608",
   "metadata": {},
   "source": [
    "## 4.2 Feature Encoding\n",
    "\n",
    "\n",
    "#### Feature that needs to be encoded:\n",
    "\n",
    "    1. Item_Fat_Content\n",
    "    2. Item_Type\n",
    "    3. Outlet_Size\n",
    "    4. Outlet_Location_Type\n",
    "    5. Outlet_Type \n",
    "    \n",
    "#### Feature Encoding Techniques:\n",
    "    1. Binary Encoding -> Item_Fat_Content\n",
    "    2. Ordinal Encoding -> Outlet_Size, Outlet_Location_Type\n",
    "    3. Nominal Encoding -> Outlet_Type, Item_Type, Outlet_Identifier\n",
    "    4. Frequency Encoding\n",
    "    \n",
    "**  Item_Type is having large unique values\n",
    "\n",
    "#### For Item_Type we will try grouping up some of the values to reduce unique values count:\n",
    "    1. Drinks -> Soft Drinks, Hard Drinks\n",
    "    2. Baking Goods -> Breads\n",
    "    3. Meat -> Seafood\n"
   ]
  },
  {
   "cell_type": "code",
   "execution_count": 217,
   "id": "2910656f",
   "metadata": {},
   "outputs": [
    {
     "name": "stdout",
     "output_type": "stream",
     "text": [
      "Total Unique Values in Outlet Identifier is 10\n"
     ]
    }
   ],
   "source": [
    "out_id_count = len(train_df['Outlet_Identifier'].unique())\n",
    "print('Total Unique Values in Outlet Identifier is {}'.format(out_id_count))"
   ]
  },
  {
   "cell_type": "code",
   "execution_count": 218,
   "id": "50118632",
   "metadata": {},
   "outputs": [],
   "source": [
    "train_df['Item_Type'].replace({'Soft Drinks':'Drinks','Hard Drinks':'Drinks','Breads':'Baking Goods','Seafood':'Meat'},inplace=True)\n",
    "test_df['Item_Type'].replace({'Soft Drinks':'Drinks','Hard Drinks':'Drinks','Breads':'Baking Goods','Seafood':'Meat'},inplace=True)"
   ]
  },
  {
   "cell_type": "code",
   "execution_count": 219,
   "id": "ec67cdc4",
   "metadata": {},
   "outputs": [],
   "source": [
    "#Binary Encoding\n",
    "\n",
    "train_df['Item_Fat_Content'].replace({'Low Fat':0,'Regular':1},inplace=True)\n",
    "test_df['Item_Fat_Content'].replace({'Low Fat':0,'Regular':1},inplace=True)"
   ]
  },
  {
   "cell_type": "code",
   "execution_count": 220,
   "id": "8b80ce79",
   "metadata": {},
   "outputs": [],
   "source": [
    "#One_hot encoding nominal variables\n",
    "\n",
    "def one_hot(df,columns,prefixes):\n",
    "    df = df.copy()\n",
    "    for column,prefix in zip(columns,prefixes):\n",
    "        dummies = pd.get_dummies(df[column],prefix=prefix,drop_first=True)\n",
    "        df = pd.concat([df,dummies],axis=1)\n",
    "        df = df.drop(column,axis=1)\n",
    "    return df"
   ]
  },
  {
   "cell_type": "code",
   "execution_count": 221,
   "id": "2edca1bc",
   "metadata": {},
   "outputs": [
    {
     "data": {
      "text/plain": [
       "['../models/lEncOT.pkl']"
      ]
     },
     "execution_count": 221,
     "metadata": {},
     "output_type": "execute_result"
    }
   ],
   "source": [
    "lEncIT = LabelEncoder()\n",
    "lEncOT = LabelEncoder()\n",
    "\n",
    "train_df['Outlet_Type'] = lEncOT.fit_transform(train_df['Outlet_Type'])\n",
    "train_df['Item_Type'] = lEncIT.fit_transform(train_df['Item_Type'])\n",
    "test_df['Outlet_Type'] = lEncOT.fit_transform(test_df['Outlet_Type'])\n",
    "test_df['Item_Type'] = lEncIT.fit_transform(test_df['Item_Type'])\n",
    "\n",
    "dump(lEncIT,'../models/lEncIT.pkl')\n",
    "dump(lEncOT,'../models/lEncOT.pkl')\n"
   ]
  },
  {
   "cell_type": "code",
   "execution_count": 222,
   "id": "e5e69575",
   "metadata": {},
   "outputs": [
    {
     "data": {
      "text/html": [
       "<div>\n",
       "<style scoped>\n",
       "    .dataframe tbody tr th:only-of-type {\n",
       "        vertical-align: middle;\n",
       "    }\n",
       "\n",
       "    .dataframe tbody tr th {\n",
       "        vertical-align: top;\n",
       "    }\n",
       "\n",
       "    .dataframe thead th {\n",
       "        text-align: right;\n",
       "    }\n",
       "</style>\n",
       "<table border=\"1\" class=\"dataframe\">\n",
       "  <thead>\n",
       "    <tr style=\"text-align: right;\">\n",
       "      <th></th>\n",
       "      <th>id</th>\n",
       "      <th>Item_Identifier</th>\n",
       "      <th>Item_Weight</th>\n",
       "      <th>Item_Fat_Content</th>\n",
       "      <th>Item_Visibility</th>\n",
       "      <th>Item_Type</th>\n",
       "      <th>Item_MRP</th>\n",
       "      <th>Outlet_Identifier</th>\n",
       "      <th>Outlet_Establishment_Year</th>\n",
       "      <th>Outlet_Size</th>\n",
       "      <th>Outlet_Location_Type</th>\n",
       "      <th>Outlet_Type</th>\n",
       "      <th>Item_Outlet_Sales</th>\n",
       "    </tr>\n",
       "  </thead>\n",
       "  <tbody>\n",
       "    <tr>\n",
       "      <th>0</th>\n",
       "      <td>0</td>\n",
       "      <td>FDA15</td>\n",
       "      <td>9.30</td>\n",
       "      <td>0</td>\n",
       "      <td>0.016047</td>\n",
       "      <td>3</td>\n",
       "      <td>249.8092</td>\n",
       "      <td>OUT049</td>\n",
       "      <td>1999</td>\n",
       "      <td>Medium</td>\n",
       "      <td>Tier 1</td>\n",
       "      <td>1</td>\n",
       "      <td>3735.1380</td>\n",
       "    </tr>\n",
       "    <tr>\n",
       "      <th>1</th>\n",
       "      <td>1</td>\n",
       "      <td>DRC01</td>\n",
       "      <td>5.92</td>\n",
       "      <td>1</td>\n",
       "      <td>0.019278</td>\n",
       "      <td>4</td>\n",
       "      <td>48.2692</td>\n",
       "      <td>OUT018</td>\n",
       "      <td>2009</td>\n",
       "      <td>Medium</td>\n",
       "      <td>Tier 3</td>\n",
       "      <td>2</td>\n",
       "      <td>443.4228</td>\n",
       "    </tr>\n",
       "    <tr>\n",
       "      <th>2</th>\n",
       "      <td>2</td>\n",
       "      <td>FDN15</td>\n",
       "      <td>17.50</td>\n",
       "      <td>0</td>\n",
       "      <td>0.016760</td>\n",
       "      <td>9</td>\n",
       "      <td>141.6180</td>\n",
       "      <td>OUT049</td>\n",
       "      <td>1999</td>\n",
       "      <td>Medium</td>\n",
       "      <td>Tier 1</td>\n",
       "      <td>1</td>\n",
       "      <td>2097.2700</td>\n",
       "    </tr>\n",
       "    <tr>\n",
       "      <th>3</th>\n",
       "      <td>3</td>\n",
       "      <td>FDX07</td>\n",
       "      <td>19.20</td>\n",
       "      <td>1</td>\n",
       "      <td>0.053925</td>\n",
       "      <td>6</td>\n",
       "      <td>182.0950</td>\n",
       "      <td>OUT010</td>\n",
       "      <td>1998</td>\n",
       "      <td>NaN</td>\n",
       "      <td>Tier 3</td>\n",
       "      <td>0</td>\n",
       "      <td>732.3800</td>\n",
       "    </tr>\n",
       "    <tr>\n",
       "      <th>4</th>\n",
       "      <td>4</td>\n",
       "      <td>NCD19</td>\n",
       "      <td>8.93</td>\n",
       "      <td>0</td>\n",
       "      <td>0.053925</td>\n",
       "      <td>8</td>\n",
       "      <td>53.8614</td>\n",
       "      <td>OUT013</td>\n",
       "      <td>1987</td>\n",
       "      <td>High</td>\n",
       "      <td>Tier 3</td>\n",
       "      <td>1</td>\n",
       "      <td>994.7052</td>\n",
       "    </tr>\n",
       "    <tr>\n",
       "      <th>...</th>\n",
       "      <td>...</td>\n",
       "      <td>...</td>\n",
       "      <td>...</td>\n",
       "      <td>...</td>\n",
       "      <td>...</td>\n",
       "      <td>...</td>\n",
       "      <td>...</td>\n",
       "      <td>...</td>\n",
       "      <td>...</td>\n",
       "      <td>...</td>\n",
       "      <td>...</td>\n",
       "      <td>...</td>\n",
       "      <td>...</td>\n",
       "    </tr>\n",
       "    <tr>\n",
       "      <th>8520</th>\n",
       "      <td>8520</td>\n",
       "      <td>NCJ29</td>\n",
       "      <td>10.60</td>\n",
       "      <td>0</td>\n",
       "      <td>0.035186</td>\n",
       "      <td>7</td>\n",
       "      <td>85.1224</td>\n",
       "      <td>OUT035</td>\n",
       "      <td>2004</td>\n",
       "      <td>Small</td>\n",
       "      <td>Tier 2</td>\n",
       "      <td>1</td>\n",
       "      <td>1193.1136</td>\n",
       "    </tr>\n",
       "    <tr>\n",
       "      <th>8521</th>\n",
       "      <td>8521</td>\n",
       "      <td>FDN46</td>\n",
       "      <td>7.21</td>\n",
       "      <td>1</td>\n",
       "      <td>0.145221</td>\n",
       "      <td>11</td>\n",
       "      <td>103.1332</td>\n",
       "      <td>OUT018</td>\n",
       "      <td>2009</td>\n",
       "      <td>Medium</td>\n",
       "      <td>Tier 3</td>\n",
       "      <td>2</td>\n",
       "      <td>1845.5976</td>\n",
       "    </tr>\n",
       "    <tr>\n",
       "      <th>8522</th>\n",
       "      <td>8522</td>\n",
       "      <td>DRG01</td>\n",
       "      <td>14.80</td>\n",
       "      <td>0</td>\n",
       "      <td>0.044878</td>\n",
       "      <td>4</td>\n",
       "      <td>75.4670</td>\n",
       "      <td>OUT046</td>\n",
       "      <td>1997</td>\n",
       "      <td>Small</td>\n",
       "      <td>Tier 1</td>\n",
       "      <td>1</td>\n",
       "      <td>765.6700</td>\n",
       "    </tr>\n",
       "    <tr>\n",
       "      <th>8523</th>\n",
       "      <td>8523</td>\n",
       "      <td>FDW58</td>\n",
       "      <td>20.75</td>\n",
       "      <td>0</td>\n",
       "      <td>0.007565</td>\n",
       "      <td>11</td>\n",
       "      <td>107.8622</td>\n",
       "      <td>OUT049</td>\n",
       "      <td>1999</td>\n",
       "      <td>Medium</td>\n",
       "      <td>Tier 1</td>\n",
       "      <td>1</td>\n",
       "      <td>1713.4050</td>\n",
       "    </tr>\n",
       "    <tr>\n",
       "      <th>8524</th>\n",
       "      <td>8524</td>\n",
       "      <td>FDB58</td>\n",
       "      <td>10.50</td>\n",
       "      <td>1</td>\n",
       "      <td>0.013496</td>\n",
       "      <td>11</td>\n",
       "      <td>141.3154</td>\n",
       "      <td>OUT046</td>\n",
       "      <td>1997</td>\n",
       "      <td>Small</td>\n",
       "      <td>Tier 1</td>\n",
       "      <td>1</td>\n",
       "      <td>2201.6060</td>\n",
       "    </tr>\n",
       "  </tbody>\n",
       "</table>\n",
       "<p>8525 rows × 13 columns</p>\n",
       "</div>"
      ],
      "text/plain": [
       "        id Item_Identifier  Item_Weight  Item_Fat_Content  Item_Visibility  \\\n",
       "0        0           FDA15         9.30                 0         0.016047   \n",
       "1        1           DRC01         5.92                 1         0.019278   \n",
       "2        2           FDN15        17.50                 0         0.016760   \n",
       "3        3           FDX07        19.20                 1         0.053925   \n",
       "4        4           NCD19         8.93                 0         0.053925   \n",
       "...    ...             ...          ...               ...              ...   \n",
       "8520  8520           NCJ29        10.60                 0         0.035186   \n",
       "8521  8521           FDN46         7.21                 1         0.145221   \n",
       "8522  8522           DRG01        14.80                 0         0.044878   \n",
       "8523  8523           FDW58        20.75                 0         0.007565   \n",
       "8524  8524           FDB58        10.50                 1         0.013496   \n",
       "\n",
       "      Item_Type  Item_MRP Outlet_Identifier  Outlet_Establishment_Year  \\\n",
       "0             3  249.8092            OUT049                       1999   \n",
       "1             4   48.2692            OUT018                       2009   \n",
       "2             9  141.6180            OUT049                       1999   \n",
       "3             6  182.0950            OUT010                       1998   \n",
       "4             8   53.8614            OUT013                       1987   \n",
       "...         ...       ...               ...                        ...   \n",
       "8520          7   85.1224            OUT035                       2004   \n",
       "8521         11  103.1332            OUT018                       2009   \n",
       "8522          4   75.4670            OUT046                       1997   \n",
       "8523         11  107.8622            OUT049                       1999   \n",
       "8524         11  141.3154            OUT046                       1997   \n",
       "\n",
       "     Outlet_Size Outlet_Location_Type  Outlet_Type  Item_Outlet_Sales  \n",
       "0         Medium               Tier 1            1          3735.1380  \n",
       "1         Medium               Tier 3            2           443.4228  \n",
       "2         Medium               Tier 1            1          2097.2700  \n",
       "3            NaN               Tier 3            0           732.3800  \n",
       "4           High               Tier 3            1           994.7052  \n",
       "...          ...                  ...          ...                ...  \n",
       "8520       Small               Tier 2            1          1193.1136  \n",
       "8521      Medium               Tier 3            2          1845.5976  \n",
       "8522       Small               Tier 1            1           765.6700  \n",
       "8523      Medium               Tier 1            1          1713.4050  \n",
       "8524       Small               Tier 1            1          2201.6060  \n",
       "\n",
       "[8525 rows x 13 columns]"
      ]
     },
     "execution_count": 222,
     "metadata": {},
     "output_type": "execute_result"
    }
   ],
   "source": [
    "train_df\n",
    "\n",
    "#Label Encoding nominal Values\n",
    "# enc = LabelEncoder()\n",
    "# train_df['Outlet_Type'] = enc.fit_transform(train_df['Outlet_Type'])\n",
    "# train_df['Item_Type'] = enc.fit_transform(train_df['Item_Type'])\n",
    "# test_df['Outlet_Type'] = enc.fit_transform(test_df['Outlet_Type'])\n",
    "# test_df['Item_Type'] = enc.fit_transform(test_df['Item_Type'])"
   ]
  },
  {
   "cell_type": "code",
   "execution_count": 223,
   "id": "f7ccba37",
   "metadata": {},
   "outputs": [
    {
     "data": {
      "text/plain": [
       "array([ 3,  4,  9,  6,  8,  0, 11,  5,  1,  7,  2, 12, 10])"
      ]
     },
     "execution_count": 223,
     "metadata": {},
     "output_type": "execute_result"
    }
   ],
   "source": [
    "train_df['Item_Type'].unique()"
   ]
  },
  {
   "cell_type": "code",
   "execution_count": 224,
   "id": "23f3a664",
   "metadata": {},
   "outputs": [],
   "source": [
    "nominal_features = ['Outlet_Type','Item_Type']\n",
    "prefixes = ['out_type','item_type']\n",
    "\n",
    "# train_df = one_hot(train_df,nominal_features,prefixes)\n",
    "# test_df = one_hot(test_df,nominal_features,prefixes)"
   ]
  },
  {
   "cell_type": "code",
   "execution_count": 225,
   "id": "52e51019",
   "metadata": {},
   "outputs": [],
   "source": [
    "#Ordinal Encoding\n",
    "\n",
    "def ord_enc(df,col,ord_var):\n",
    "    df = df.copy()\n",
    "    df[col].replace(ord_var,inplace=True)\n",
    "    return df"
   ]
  },
  {
   "cell_type": "code",
   "execution_count": 226,
   "id": "4a7b1a95",
   "metadata": {},
   "outputs": [],
   "source": [
    "#Encoding Ordinal columns\n",
    "\n",
    "outlet_size_ord = {'Small':0,'Medium':1,'High':2}\n",
    "out_loc_ord = {'Tier 1':2,'Tier 2':1,'Tier 3':0}\n",
    "\n",
    "train_df = ord_enc(train_df,'Outlet_Size',outlet_size_ord)\n",
    "test_df = ord_enc(test_df,'Outlet_Size',outlet_size_ord)\n",
    "\n",
    "train_df = ord_enc(train_df,'Outlet_Location_Type',out_loc_ord)\n",
    "test_df = ord_enc(test_df,'Outlet_Location_Type',out_loc_ord)"
   ]
  },
  {
   "cell_type": "markdown",
   "id": "fb0d9651",
   "metadata": {},
   "source": [
    "## 4.3 Removing irrelevant columns\n",
    "\n",
    "#### Irrelevant Columns in this dataset are: \n",
    "    1. Item_Identifier\n",
    "    2. Outlet_Identifier (Can be left unremoved as it has not all unique values)"
   ]
  },
  {
   "cell_type": "code",
   "execution_count": 227,
   "id": "11461634",
   "metadata": {},
   "outputs": [],
   "source": [
    "train_df.drop(columns=['Item_Identifier','Outlet_Identifier','id'],axis=1,inplace=True) #\n",
    "test_df.drop(columns=['Item_Identifier','Outlet_Identifier'],axis=1,inplace=True)"
   ]
  },
  {
   "cell_type": "code",
   "execution_count": 228,
   "id": "4b89ae9f",
   "metadata": {},
   "outputs": [
    {
     "name": "stdout",
     "output_type": "stream",
     "text": [
      "Total Categorical Features present : 0\n"
     ]
    }
   ],
   "source": [
    "cat_feature_count = len(train_df.select_dtypes('object').count())\n",
    "print('Total Categorical Features present : {}'.format(cat_feature_count))"
   ]
  },
  {
   "cell_type": "markdown",
   "id": "4b7cadd8",
   "metadata": {},
   "source": [
    "## 4.4 Feature Generation"
   ]
  },
  {
   "cell_type": "code",
   "execution_count": 229,
   "id": "6318d0a1",
   "metadata": {},
   "outputs": [],
   "source": [
    "# Deriving new column called Years_Since_Established from Establishment Year\n",
    "\n",
    "train_df['Years_Since_Established'] = train_df['Outlet_Establishment_Year'].apply(lambda x: 2021 - x) \n",
    "test_df['Years_Since_Established'] = test_df['Outlet_Establishment_Year'].apply(lambda x: 2021 - x)"
   ]
  },
  {
   "cell_type": "markdown",
   "id": "dacee2b7",
   "metadata": {},
   "source": [
    "### 4.x Imputing missing values for Outlet_size using Classification Algo \n",
    "\n",
    "**We can see a little bit of performance improvement after Imputing missing values by predcting using CatBoost Algortithm"
   ]
  },
  {
   "cell_type": "code",
   "execution_count": 230,
   "id": "f2a0832d",
   "metadata": {},
   "outputs": [
    {
     "name": "stdout",
     "output_type": "stream",
     "text": [
      "[1. 2. 0.]\n"
     ]
    },
    {
     "data": {
      "text/plain": [
       "RandomForestClassifier(random_state=2)"
      ]
     },
     "execution_count": 230,
     "metadata": {},
     "output_type": "execute_result"
    }
   ],
   "source": [
    "out_train_pred_df = train_df[train_df['Outlet_Size'].isna()]\n",
    "out_test_pred_df =  test_df[test_df['Outlet_Size'].isna()]\n",
    "out_train_df = train_df[~train_df['Outlet_Size'].isna()] #for training\n",
    "out_train_df.isna().sum()\n",
    "# out_train_df['Outlet_Size'] = out_train_df['Outlet_Size'].replace({'Small':0,'Medium':1,'High':2})\n",
    "# out_train_df.drop(columns=['Item_Identifier','Outlet_Identifier'],inplace=True)\n",
    "X = out_train_df.drop(columns=['Outlet_Size','Item_Outlet_Sales'])\n",
    "y = out_train_df['Outlet_Size']\n",
    "print(y.unique())\n",
    "trainX,testX,trainY,testY = train_test_split(X,y,random_state=22,test_size=0.2)\n",
    "cat_model = RandomForestClassifier(random_state=2)\n",
    "cat_model.fit(trainX,trainY)"
   ]
  },
  {
   "cell_type": "code",
   "execution_count": 231,
   "id": "f85b27fd",
   "metadata": {},
   "outputs": [],
   "source": [
    "pred = cat_model.predict(testX)"
   ]
  },
  {
   "cell_type": "code",
   "execution_count": 232,
   "id": "ab19f718",
   "metadata": {},
   "outputs": [],
   "source": [
    "out_train_pred = cat_model.predict(out_train_pred_df.drop(columns=['Outlet_Size','Item_Outlet_Sales']))"
   ]
  },
  {
   "cell_type": "code",
   "execution_count": 233,
   "id": "955d4c01",
   "metadata": {},
   "outputs": [],
   "source": [
    "out_train_pred_df['Outlet_Size'] = out_train_pred"
   ]
  },
  {
   "cell_type": "code",
   "execution_count": 234,
   "id": "cf8c38d4",
   "metadata": {},
   "outputs": [],
   "source": [
    "out_test_pred = cat_model.predict(out_test_pred_df.drop(columns=['Outlet_Size']))\n",
    "out_test_pred_df['Outlet_Size'] = out_test_pred"
   ]
  },
  {
   "cell_type": "code",
   "execution_count": 235,
   "id": "94336bd9",
   "metadata": {},
   "outputs": [],
   "source": [
    "train_df.dropna(inplace=True)\n",
    "test_df.dropna(inplace=True)"
   ]
  },
  {
   "cell_type": "code",
   "execution_count": 236,
   "id": "0d8bd2c1",
   "metadata": {},
   "outputs": [],
   "source": [
    "train_df = pd.concat([train_df,out_train_pred_df])\n",
    "test_df = pd.concat([test_df,out_test_pred_df])"
   ]
  },
  {
   "cell_type": "markdown",
   "id": "a52ec65b",
   "metadata": {},
   "source": [
    "# 5. Splitting & Training Model\n",
    "\n",
    "    1. Scaling\n",
    "    2. Splitting\n",
    "    3. Training"
   ]
  },
  {
   "cell_type": "code",
   "execution_count": 237,
   "id": "30f34d3d",
   "metadata": {},
   "outputs": [],
   "source": [
    "X = train_df.drop(columns=['Item_Outlet_Sales'],axis=1)\n",
    "y = train_df['Item_Outlet_Sales']"
   ]
  },
  {
   "cell_type": "code",
   "execution_count": 238,
   "id": "4acf63c7",
   "metadata": {},
   "outputs": [],
   "source": [
    "# Scaling the feature\n",
    "scale = StandardScaler()"
   ]
  },
  {
   "cell_type": "code",
   "execution_count": 239,
   "id": "7769bbfc",
   "metadata": {},
   "outputs": [],
   "source": [
    "trainX,testX,trainY,testY = train_test_split(X,y,random_state=42,test_size=0.25)"
   ]
  },
  {
   "cell_type": "code",
   "execution_count": 240,
   "id": "4bcbf275",
   "metadata": {},
   "outputs": [],
   "source": [
    "# trainX['Log_Item_Visibility'] = trainX['Log_Item_Visibility']**-1/2\n",
    "# trainY = np.exp(trainY)\n",
    "# testX['Log_Item_Visibility'] = testX['Log_Item_Visibility']**-1/2\n",
    "# testY = np.exp(testY)"
   ]
  },
  {
   "cell_type": "code",
   "execution_count": 241,
   "id": "295e3453",
   "metadata": {},
   "outputs": [],
   "source": [
    "model_acc_scores = {}\n",
    "def predictionResult(testY,pred,model_name,model):\n",
    "    print('------------------Test Result---------------')\n",
    "    print('--------------------{}------------------'.format(model_name))\n",
    "    score = r2_score(testY,pred)\n",
    "    mae = mean_absolute_error(testY,pred)\n",
    "    mse = mean_squared_error(testY,pred)\n",
    "    rmse = np.sqrt(mse)\n",
    "    scores_dict = {'R2 Score':score,'Mean Absolute Error':mae,'Mean Squared Error':mse,'Root Mean Squared Error':rmse}\n",
    "    model_acc_scores[model_name] = scores_dict\n",
    "    print('R Squared Score is: {}'.format(score))\n",
    "    print('Mean Absolute Error is: {}'.format(mae))\n",
    "    print('Mean Squared Error is: {}'.format(mse))\n",
    "    print('Root Mean Squared Error is: {}'.format(rmse))\n",
    "    cv_score = cross_val_score(model,trainX,trainY,cv=5)\n",
    "    print('------CV Score-------')\n",
    "    print('CV Score for {} model is {}'.format(model_name,cv_score.mean()))\n",
    "    print(sns.residplot(pred.reshape(-1),testY,lowess=True,\n",
    "                                  line_kws={'color': 'red', 'lw': 1, 'alpha': 1}))\n",
    "    \n",
    "    plt.xlabel(\"Fitted values\")\n",
    "    plt.title('Residual plot')\n",
    "\n",
    "    #Q-Q Plot\n",
    "    residuals = testY - pred.reshape(-1)\n",
    "    # residuals\n",
    "\n",
    "    plt.figure(figsize=(7,7))\n",
    "    print(probplot(residuals, dist=\"norm\", plot=plt))\n",
    "    plt.title(\"Normal Q-Q Plot\")"
   ]
  },
  {
   "cell_type": "code",
   "execution_count": 242,
   "id": "b0dcb8d2",
   "metadata": {},
   "outputs": [
    {
     "name": "stdout",
     "output_type": "stream",
     "text": [
      "------------------Test Result---------------\n",
      "--------------------LinearRegression------------------\n",
      "R Squared Score is: 0.5017659896480906\n",
      "Mean Absolute Error is: 892.080920825516\n",
      "Mean Squared Error is: 1380478.140325565\n",
      "Root Mean Squared Error is: 1174.9375048595414\n",
      "------CV Score-------\n",
      "CV Score for LinearRegression model is 0.49778140087372014\n",
      "AxesSubplot(0.125,0.125;0.775x0.755)\n",
      "((array([-3.40979126, -3.15993193, -3.02141222, ...,  3.02141222,\n",
      "        3.15993193,  3.40979126]), array([-3425.3596, -3135.5536, -3051.3104, ...,  4787.0688,  4931.5964,\n",
      "        5006.7992])), (1167.609572665571, 15.348295872420145, 0.9924308354083818))\n"
     ]
    },
    {
     "data": {
      "image/png": "[encoded data removed]",
      "text/plain": [
       "<Figure size 432x288 with 1 Axes>"
      ]
     },
     "metadata": {
      "needs_background": "light"
     },
     "output_type": "display_data"
    },
    {
     "data": {
      "image/png": "[encoded data removed]",
      "text/plain": [
       "<Figure size 504x504 with 1 Axes>"
      ]
     },
     "metadata": {
      "needs_background": "light"
     },
     "output_type": "display_data"
    }
   ],
   "source": [
    "model_lin_reg = LinearRegression()\n",
    "\n",
    "model_lin_reg.fit(trainX,trainY)\n",
    "\n",
    "pred = model_lin_reg.predict(testX)\n",
    "model_name = 'LinearRegression'\n",
    "\n",
    "predictionResult(testY,pred,model_name,model_lin_reg)\n"
   ]
  },
  {
   "cell_type": "code",
   "execution_count": 243,
   "id": "73d973fc",
   "metadata": {},
   "outputs": [
    {
     "name": "stdout",
     "output_type": "stream",
     "text": [
      "Trining R2 Score: 0.620830030374188\n",
      "------------------Test Result---------------\n",
      "--------------------RandomForestRegressor------------------\n",
      "R Squared Score is: 0.6113943392281034\n",
      "Mean Absolute Error is: 736.5747521015635\n",
      "Mean Squared Error is: 1076726.214502027\n",
      "Root Mean Squared Error is: 1037.654188302648\n",
      "------CV Score-------\n",
      "CV Score for RandomForestRegressor model is 0.5882596934528305\n",
      "AxesSubplot(0.125,0.125;0.775x0.755)\n",
      "((array([-3.40979126, -3.15993193, -3.02141222, ...,  3.02141222,\n",
      "        3.15993193,  3.40979126]), array([-4160.85980754, -4042.45582763, -3617.96410856, ...,\n",
      "        4475.16909182,  4730.12582178,  4821.93704044])), (1021.7790063432623, 10.77084319472059, 0.9833498170181652))\n"
     ]
    },
    {
     "data": {
      "image/png": "[encoded data removed]",
      "text/plain": [
       "<Figure size 432x288 with 1 Axes>"
      ]
     },
     "metadata": {
      "needs_background": "light"
     },
     "output_type": "display_data"
    },
    {
     "data": {
      "image/png": "[encoded data removed]",
      "text/plain": [
       "<Figure size 504x504 with 1 Axes>"
      ]
     },
     "metadata": {
      "needs_background": "light"
     },
     "output_type": "display_data"
    }
   ],
   "source": [
    "model_rf_reg = RandomForestRegressor(n_estimators=350,max_depth=6,random_state=2)\n",
    "model_rf_reg.fit(trainX,trainY)\n",
    "\n",
    "print('Trining R2 Score: {}'.format(model_rf_reg.score(trainX,trainY)))\n",
    "\n",
    "pred = model_rf_reg.predict(testX)\n",
    "model_name = 'RandomForestRegressor'\n",
    "\n",
    "predictionResult(testY,pred,model_name,model_rf_reg)"
   ]
  },
  {
   "cell_type": "code",
   "execution_count": 244,
   "id": "5898b019",
   "metadata": {},
   "outputs": [
    {
     "name": "stdout",
     "output_type": "stream",
     "text": [
      "Trining R2 Score: 0.6193481833467152\n",
      "------------------Test Result---------------\n",
      "--------------------CatBoostRegressor------------------\n",
      "R Squared Score is: 0.618608557260963\n",
      "Mean Absolute Error is: 729.5582359071336\n",
      "Mean Squared Error is: 1056737.4740969494\n",
      "Root Mean Squared Error is: 1027.9773704206477\n",
      "------CV Score-------\n",
      "CV Score for CatBoostRegressor model is 0.5920160750388979\n",
      "AxesSubplot(0.125,0.125;0.775x0.755)\n",
      "((array([-3.40979126, -3.15993193, -3.02141222, ...,  3.02141222,\n",
      "        3.15993193,  3.40979126]), array([-4212.33945872, -3664.56789735, -3409.86375554, ...,\n",
      "        4519.21830946,  4716.19036942,  4906.82331281])), (1010.7860843242189, 3.4806958662918164, 0.9818801972749024))\n"
     ]
    },
    {
     "data": {
      "image/png": "[encoded data removed]",
      "text/plain": [
       "<Figure size 432x288 with 1 Axes>"
      ]
     },
     "metadata": {
      "needs_background": "light"
     },
     "output_type": "display_data"
    },
    {
     "data": {
      "image/png": "[encoded data removed]",
      "text/plain": [
       "<Figure size 504x504 with 1 Axes>"
      ]
     },
     "metadata": {
      "needs_background": "light"
     },
     "output_type": "display_data"
    }
   ],
   "source": [
    "model_cat_reg = CatBoostRegressor(random_state=2,iterations=3000,learning_rate=0.002,depth=6,silent=True)\n",
    "model_cat_reg.fit(trainX,trainY)\n",
    "\n",
    "print('Trining R2 Score: {}'.format(model_cat_reg.score(trainX,trainY)))\n",
    "\n",
    "pred = model_cat_reg.predict(testX)\n",
    "model_name = 'CatBoostRegressor'\n",
    "\n",
    "predictionResult(testY,pred,model_name,model_cat_reg)"
   ]
  },
  {
   "cell_type": "markdown",
   "id": "e20a616f",
   "metadata": {},
   "source": [
    "## Hyperparameter Tuning\n",
    "\n",
    "#### Method used to perform Hyperparamter Tuning:\n",
    "    1. GridSearchCV\n",
    "    2. RandomizedSearchCV\n",
    "    3. Coordinate Descent and etc"
   ]
  },
  {
   "cell_type": "code",
   "execution_count": 245,
   "id": "078b45cf",
   "metadata": {},
   "outputs": [],
   "source": [
    "def randomSearch(model,params,trainX,testX,trainY,testY,scoring_name):\n",
    "    grid = RandomizedSearchCV(estimator=model,param_distributions=params,scoring=scoring_name,verbose=3)\n",
    "    grid.fit(trainX,trainY)\n",
    "    print('------------Best Params----------')\n",
    "    print(grid.best_params_)\n",
    "    print('------------Best Score-----------')\n",
    "    print(grid.best_score_)"
   ]
  },
  {
   "cell_type": "code",
   "execution_count": 246,
   "id": "95ee1e50",
   "metadata": {},
   "outputs": [],
   "source": [
    "cat_params = {\"learning_rate\"    : [0.05, 0.10,0.002 ] ,\n",
    " \"max_depth\"        : [ 3, 5, 6, 8],\n",
    " \"min_child_weight\" : [ 1, 3, 5, 7 ],\n",
    " \"gamma\"            : [ 0.0, 0.1, 0.2 , 0.3, 0.4 ],\n",
    " \"colsample_bytree\" : [ 0.3, 0.4, 0.5 , 0.7 ] }\n",
    "\n",
    "cat_model = CatBoostRegressor(silent=True)\n",
    "# randomSearch(cat_model,cat_params,trainX,testX,trainY,testY,'r2')"
   ]
  },
  {
   "cell_type": "code",
   "execution_count": 247,
   "id": "f6d0b07b",
   "metadata": {},
   "outputs": [
    {
     "data": {
      "text/html": [
       "<div>\n",
       "<style scoped>\n",
       "    .dataframe tbody tr th:only-of-type {\n",
       "        vertical-align: middle;\n",
       "    }\n",
       "\n",
       "    .dataframe tbody tr th {\n",
       "        vertical-align: top;\n",
       "    }\n",
       "\n",
       "    .dataframe thead th {\n",
       "        text-align: right;\n",
       "    }\n",
       "</style>\n",
       "<table border=\"1\" class=\"dataframe\">\n",
       "  <thead>\n",
       "    <tr style=\"text-align: right;\">\n",
       "      <th></th>\n",
       "      <th>R2 Score</th>\n",
       "      <th>Mean Absolute Error</th>\n",
       "      <th>Mean Squared Error</th>\n",
       "      <th>Root Mean Squared Error</th>\n",
       "    </tr>\n",
       "  </thead>\n",
       "  <tbody>\n",
       "    <tr>\n",
       "      <th>LinearRegression</th>\n",
       "      <td>0.501766</td>\n",
       "      <td>892.080921</td>\n",
       "      <td>1.380478e+06</td>\n",
       "      <td>1174.937505</td>\n",
       "    </tr>\n",
       "    <tr>\n",
       "      <th>RandomForestRegressor</th>\n",
       "      <td>0.611394</td>\n",
       "      <td>736.574752</td>\n",
       "      <td>1.076726e+06</td>\n",
       "      <td>1037.654188</td>\n",
       "    </tr>\n",
       "    <tr>\n",
       "      <th>CatBoostRegressor</th>\n",
       "      <td>0.618609</td>\n",
       "      <td>729.558236</td>\n",
       "      <td>1.056737e+06</td>\n",
       "      <td>1027.977370</td>\n",
       "    </tr>\n",
       "  </tbody>\n",
       "</table>\n",
       "</div>"
      ],
      "text/plain": [
       "                       R2 Score  Mean Absolute Error  Mean Squared Error  \\\n",
       "LinearRegression       0.501766           892.080921        1.380478e+06   \n",
       "RandomForestRegressor  0.611394           736.574752        1.076726e+06   \n",
       "CatBoostRegressor      0.618609           729.558236        1.056737e+06   \n",
       "\n",
       "                       Root Mean Squared Error  \n",
       "LinearRegression                   1174.937505  \n",
       "RandomForestRegressor              1037.654188  \n",
       "CatBoostRegressor                  1027.977370  "
      ]
     },
     "execution_count": 247,
     "metadata": {},
     "output_type": "execute_result"
    }
   ],
   "source": [
    "model_performance = pd.DataFrame(model_acc_scores,)\n",
    "model_performance.T"
   ]
  },
  {
   "cell_type": "code",
   "execution_count": 248,
   "id": "8f21f928",
   "metadata": {},
   "outputs": [
    {
     "data": {
      "text/plain": [
       "0.6193481833467152"
      ]
     },
     "execution_count": 248,
     "metadata": {},
     "output_type": "execute_result"
    }
   ],
   "source": [
    "clf = Pipeline([('cat_reg',CatBoostRegressor(random_state=2,iterations=3000,learning_rate=0.002,depth=6,silent=True))])\n",
    "clf.fit(trainX,trainY)\n",
    "clf.score(trainX,trainY)\n"
   ]
  },
  {
   "cell_type": "code",
   "execution_count": 249,
   "id": "b114c19f",
   "metadata": {},
   "outputs": [
    {
     "data": {
      "text/plain": [
       "['../models/model.pkl']"
      ]
     },
     "execution_count": 249,
     "metadata": {},
     "output_type": "execute_result"
    }
   ],
   "source": [
    "dump(clf,'../models/model.pkl')"
   ]
  }
 ],
 "metadata": {
  "kernelspec": {
   "display_name": "Python 3 (ipykernel)",
   "language": "python",
   "name": "python3"
  },
  "language_info": {
   "codemirror_mode": {
    "name": "ipython",
    "version": 3
   },
   "file_extension": ".py",
   "mimetype": "text/x-python",
   "name": "python",
   "nbconvert_exporter": "python",
   "pygments_lexer": "ipython3",
   "version": "3.9.6"
  }
 },
 "nbformat": 4,
 "nbformat_minor": 5
}
