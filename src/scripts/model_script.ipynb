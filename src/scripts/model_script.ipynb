import numpy as np
import pandas as pd
from sklearn.preprocessing import OrdinalEncoder, OneHotEncoder, LabelBinarizer
from sklearn.compose import make_column_transformer
import os

# Read Data

df = pd.read_csv('data/raw/Train.csv')

# Clean Data



# Encode Data
# oe = OrdinalEncoder()
# oe = OneHotEncoder()
# lb = LabelBinarizer()
#
# ct = make_column_transformer()