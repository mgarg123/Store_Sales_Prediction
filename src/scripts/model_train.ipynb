{
 "cells": [
  {
   "cell_type": "code",
   "execution_count": null,
   "id": "6a3a3776",
   "metadata": {},
   "outputs": [],
   "source": []
  },
  {
   "cell_type": "code",
   "execution_count": 129,
   "id": "6455cab4",
   "metadata": {},
   "outputs": [],
   "source": [
    "import numpy as np\n",
    "import pandas as pd\n",
    "from sklearn.impute import SimpleImputer\n",
    "from sklearn.preprocessing import OneHotEncoder, OrdinalEncoder, LabelBinarizer\n",
    "from sklearn.compose import ColumnTransformer\n",
    "from sklearn.pipeline import Pipeline\n",
    "from catboost import CatBoostRegressor, CatBoostClassifier\n",
    "from xgboost import XGBRegressor\n",
    "from sklearn.linear_model import LinearRegression\n",
    "from sklearn.ensemble import RandomForestRegressor,RandomForestClassifier\n",
    "from sklearn.model_selection import train_test_split,cross_val_score,GridSearchCV,RandomizedSearchCV\n",
    "from sklearn.metrics import r2_score, mean_squared_error, mean_absolute_error,classification_report,confusion_matrix\n",
    "import warnings\n",
    "from joblib import dump,load\n",
    "\n",
    "warnings.filterwarnings('ignore')"
   ]
  },
  {
   "cell_type": "code",
   "execution_count": 130,
   "id": "a18ee9b5",
   "metadata": {},
   "outputs": [],
   "source": [
    "df = pd.read_csv('../../data/raw/Train.csv')\n",
    "# df.isna().sum()"
   ]
  },
  {
   "cell_type": "code",
   "execution_count": 131,
   "id": "1481b467",
   "metadata": {},
   "outputs": [],
   "source": [
    "df['Item_Fat_Content'].replace({'LF':'Low Fat','low fat':'Low Fat','reg':'Regular'},inplace=True)\n",
    "df['Item_Type'].replace({'Soft Drinks':'Drinks','Hard Drinks':'Drinks','Breads':'Baking Goods','Seafood':'Meat'},inplace=True)"
   ]
  },
  {
   "cell_type": "code",
   "execution_count": 132,
   "id": "d52b3d0a",
   "metadata": {},
   "outputs": [],
   "source": [
    "#Handling Missing Values\n",
    "df['Item_Weight'].fillna(df['Item_Weight'].mean(),inplace=True)\n",
    "df['Item_Visibility'].replace({0:df['Item_Visibility'].median()},inplace=True)"
   ]
  },
  {
   "cell_type": "code",
   "execution_count": 133,
   "id": "2a0d7e80",
   "metadata": {},
   "outputs": [],
   "source": [
    "#Feature Encooding and generation\n",
    "\n",
    "#Binary Encoding\n",
    "df['Item_Fat_Content'].replace({'Low Fat':0,'Regular':1},inplace=True)"
   ]
  },
  {
   "cell_type": "code",
   "execution_count": 134,
   "id": "f2b27c12",
   "metadata": {},
   "outputs": [],
   "source": [
    "#One_hot encoding nominal variables\n",
    "\n",
    "def one_hot(df,columns,prefixes):\n",
    "    df = df.copy()\n",
    "    for column,prefix in zip(columns,prefixes):\n",
    "        dummies = pd.get_dummies(df[column],prefix=prefix,drop_first=True)\n",
    "        df = pd.concat([df,dummies],axis=1)\n",
    "        df = df.drop(column,axis=1)\n",
    "    return df"
   ]
  },
  {
   "cell_type": "code",
   "execution_count": 135,
   "id": "da3cdf71",
   "metadata": {},
   "outputs": [],
   "source": [
    "nominal_features = ['Outlet_Type','Item_Type','Outlet_Identifier']\n",
    "prefixes = ['out_type','item_type','out_id']\n",
    "\n",
    "df = one_hot(df,nominal_features,prefixes)"
   ]
  },
  {
   "cell_type": "code",
   "execution_count": 136,
   "id": "0f56eb1d",
   "metadata": {},
   "outputs": [],
   "source": [
    "#Ordinal Encoding\n",
    "\n",
    "def ord_enc(df,col,ord_var):\n",
    "    df = df.copy()\n",
    "    df[col].replace(ord_var,inplace=True)\n",
    "    return df"
   ]
  },
  {
   "cell_type": "code",
   "execution_count": 137,
   "id": "b98021ac",
   "metadata": {},
   "outputs": [],
   "source": [
    "#Encoding Ordinal columns\n",
    "\n",
    "outlet_size_ord = {'Small':0,'Medium':1,'High':2}\n",
    "out_loc_ord = {'Tier 1':2,'Tier 2':1,'Tier 3':0}\n",
    "\n",
    "df = ord_enc(df,'Outlet_Size',outlet_size_ord)\n",
    "\n",
    "df = ord_enc(df,'Outlet_Location_Type',out_loc_ord)"
   ]
  },
  {
   "cell_type": "code",
   "execution_count": 138,
   "id": "b25f093d",
   "metadata": {},
   "outputs": [],
   "source": [
    "#Dropping unwanted/irrelevant column\n",
    "df.drop(columns=['Item_Identifier'],axis=1,inplace=True)"
   ]
  },
  {
   "cell_type": "code",
   "execution_count": 139,
   "id": "c092c595",
   "metadata": {},
   "outputs": [],
   "source": [
    "# Deriving new column called Years_Since_Established from Establishment Year\n",
    "\n",
    "df['Years_Since_Established'] =df['Outlet_Establishment_Year'].apply(lambda x: 2021 - x) "
   ]
  },
  {
   "cell_type": "code",
   "execution_count": 140,
   "id": "caea82d2",
   "metadata": {},
   "outputs": [],
   "source": [
    "# Missing value for OutletSize\n",
    "\n",
    "out_train_pred_df = df[df['Outlet_Size'].isna()]\n",
    "# out_test_pred_df =  test_df[test_df['Outlet_Size'].isna()]\n",
    "out_train_df = df[~df['Outlet_Size'].isna()] #for training\n",
    "out_train_df.isna().sum()\n",
    "# out_train_df['Outlet_Size'] = out_train_df['Outlet_Size'].replace({'Small':0,'Medium':1,'High':2})\n",
    "# out_train_df.drop(columns=['Item_Identifier','Outlet_Identifier'],inplace=True)\n",
    "X = out_train_df.drop(columns=['Outlet_Size','Item_Outlet_Sales'])\n",
    "y = out_train_df['Outlet_Size']\n",
    "trainX,testX,trainY,testY = train_test_split(X,y,random_state=22,test_size=0.2)\n",
    "cat_model = RandomForestClassifier(random_state=2)\n",
    "cat_model.fit(trainX,trainY)\n",
    "\n",
    "pred = cat_model.predict(testX)\n",
    "out_train_pred = cat_model.predict(out_train_pred_df.drop(columns=['Outlet_Size','Item_Outlet_Sales']))\n",
    "out_train_pred_df['Outlet_Size'] = out_train_pred\n",
    "\n",
    "# out_test_pred = cat_model.predict(out_test_pred_df.drop(columns=['Outlet_Size']))\n",
    "# out_test_pred_df['Outlet_Size'] = out_test_pred\n",
    "\n",
    "df.dropna(inplace=True)\n",
    "# test_df.dropna(inplace=True)\n",
    "\n",
    "df = pd.concat([df,out_train_pred_df])\n",
    "# test_df = pd.concat([test_df,out_test_pred_df])"
   ]
  },
  {
   "cell_type": "code",
   "execution_count": 141,
   "id": "4934e539",
   "metadata": {},
   "outputs": [],
   "source": [
    "#Model Training\n",
    "\n",
    "X = df.drop(columns=['Item_Outlet_Sales'],axis=1)\n",
    "y = df['Item_Outlet_Sales']\n",
    "\n",
    "#Split Dataset\n",
    "trainX,testX,trainY,testY = train_test_split(X,y,random_state=42,test_size=0.20)\n",
    "\n"
   ]
  },
  {
   "cell_type": "code",
   "execution_count": 142,
   "id": "91e51b3c",
   "metadata": {},
   "outputs": [],
   "source": [
    "clf = Pipeline([('cat_reg',CatBoostRegressor(random_state=2,iterations=3000,learning_rate=0.002,depth=6,silent=True))])"
   ]
  },
  {
   "cell_type": "code",
   "execution_count": 143,
   "id": "7334c720",
   "metadata": {},
   "outputs": [
    {
     "data": {
      "text/plain": [
       "Pipeline(steps=[('cat_reg',\n",
       "                 <catboost.core.CatBoostRegressor object at 0x00000260269C0F70>)])"
      ]
     },
     "execution_count": 143,
     "metadata": {},
     "output_type": "execute_result"
    }
   ],
   "source": [
    "clf.fit(trainX,trainY)"
   ]
  },
  {
   "cell_type": "code",
   "execution_count": 144,
   "id": "f2e65399",
   "metadata": {},
   "outputs": [
    {
     "data": {
      "text/plain": [
       "0.6185545982080469"
      ]
     },
     "execution_count": 144,
     "metadata": {},
     "output_type": "execute_result"
    }
   ],
   "source": [
    "clf.score(trainX,trainY)"
   ]
  },
  {
   "cell_type": "code",
   "execution_count": 145,
   "id": "1f45ab43",
   "metadata": {},
   "outputs": [
    {
     "data": {
      "text/plain": [
       "['../../models/model.pkl']"
      ]
     },
     "execution_count": 145,
     "metadata": {},
     "output_type": "execute_result"
    }
   ],
   "source": [
    "dump(clf,'../../models/model.pkl')"
   ]
  },
  {
   "cell_type": "code",
   "execution_count": 146,
   "id": "020c527c",
   "metadata": {},
   "outputs": [],
   "source": [
    "clf = load('../../models/model.pkl')"
   ]
  },
  {
   "cell_type": "code",
   "execution_count": 147,
   "id": "b0d57996",
   "metadata": {},
   "outputs": [
    {
     "data": {
      "text/plain": [
       "0.6217498826705037"
      ]
     },
     "execution_count": 147,
     "metadata": {},
     "output_type": "execute_result"
    }
   ],
   "source": [
    "clf.score(testX,testY)"
   ]
  },
  {
   "cell_type": "code",
   "execution_count": null,
   "id": "9267737d",
   "metadata": {},
   "outputs": [],
   "source": []
  }
 ],
 "metadata": {
  "kernelspec": {
   "display_name": "Python 3 (ipykernel)",
   "language": "python",
   "name": "python3"
  },
  "language_info": {
   "codemirror_mode": {
    "name": "ipython",
    "version": 3
   },
   "file_extension": ".py",
   "mimetype": "text/x-python",
   "name": "python",
   "nbconvert_exporter": "python",
   "pygments_lexer": "ipython3",
   "version": "3.9.6"
  }
 },
 "nbformat": 4,
 "nbformat_minor": 5
}
